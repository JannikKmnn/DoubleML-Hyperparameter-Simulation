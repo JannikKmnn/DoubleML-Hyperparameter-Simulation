{
 "cells": [
  {
   "cell_type": "code",
   "execution_count": null,
   "metadata": {},
   "outputs": [],
   "source": [
    "import numpy as np\n",
    "import pandas as pd\n",
    "import doubleml as dml\n",
    "import seaborn as sns\n",
    "import matplotlib.pyplot as plt\n",
    "\n",
    "from doubleml.datasets import make_plr_CCDDHNR2018"
   ]
  }
 ],
 "metadata": {
  "kernelspec": {
   "display_name": "Python 3",
   "language": "python",
   "name": "python3"
  },
  "language_info": {
   "name": "python",
   "version": "3.9.5"
  },
  "orig_nbformat": 4,
  "vscode": {
   "interpreter": {
    "hash": "7d7415c14ed48e906ef44fc8e653c44533badebfa359c6746e4a1b3240eda39e"
   }
  }
 },
 "nbformat": 4,
 "nbformat_minor": 2
}
